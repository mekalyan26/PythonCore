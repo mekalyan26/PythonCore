{
 "metadata": {
  "language_info": {
   "codemirror_mode": {
    "name": "ipython",
    "version": 3
   },
   "file_extension": ".py",
   "mimetype": "text/x-python",
   "name": "python",
   "nbconvert_exporter": "python",
   "pygments_lexer": "ipython3",
   "version": "3.8.5-final"
  },
  "orig_nbformat": 2,
  "kernelspec": {
   "name": "python3",
   "display_name": "Python 3",
   "language": "python"
  }
 },
 "nbformat": 4,
 "nbformat_minor": 2,
 "cells": [
  {
   "cell_type": "code",
   "execution_count": 21,
   "metadata": {},
   "outputs": [
    {
     "output_type": "stream",
     "name": "stdout",
     "text": [
      "[[ 1  1  1  1]\n [ 8  4  2  1]\n [27  9  3  1]\n [64 16  4  1]]\n"
     ]
    }
   ],
   "source": [
    "import numpy as np\n",
    "def colmatrix():\n",
    "    a = np.array([1,2,3,4])\n",
    "    Y = 4\n",
    "    print(np.vander(a,Y,increasing=False ))\n",
    "colmatrix()\n",
    "\n"
   ]
  },
  {
   "cell_type": "code",
   "execution_count": 26,
   "metadata": {},
   "outputs": [],
   "source": [
    "import numpy as np\n",
    "def movingaverage(x,w):\n",
    "    m = np.convolve(x,w)\n",
    "    print(m) "
   ]
  },
  {
   "cell_type": "code",
   "execution_count": 27,
   "metadata": {},
   "outputs": [
    {
     "output_type": "stream",
     "name": "stdout",
     "text": [
      "[  9  15  21   6  24  30  33 195 216 243 297 300 450]\n"
     ]
    }
   ],
   "source": [
    "x = np.array([3, 5, 7, 2, 8, 10, 11, 65, 72, 81, 99, 100, 150])\n",
    "w=3\n",
    "movingaverage(x,w)"
   ]
  },
  {
   "cell_type": "code",
   "execution_count": null,
   "metadata": {},
   "outputs": [],
   "source": []
  }
 ]
}