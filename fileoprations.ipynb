{
 "metadata": {
  "language_info": {
   "codemirror_mode": {
    "name": "ipython",
    "version": 3
   },
   "file_extension": ".py",
   "mimetype": "text/x-python",
   "name": "python",
   "nbconvert_exporter": "python",
   "pygments_lexer": "ipython3",
   "version": "3.8.5-final"
  },
  "orig_nbformat": 2,
  "kernelspec": {
   "name": "python3",
   "display_name": "Python 3",
   "language": "python"
  }
 },
 "nbformat": 4,
 "nbformat_minor": 2,
 "cells": [
  {
   "cell_type": "code",
   "execution_count": 2,
   "metadata": {},
   "outputs": [],
   "source": [
    "## Mode Description\n",
    "### 'r' This is the default mode. It Opens file for reading.\n",
    "### 'w' This Mode Opens file for writing.If file does not exist, it creates a new file.\n",
    "### If file exists it truncates the file.\n",
    "### 'x' Creates a new file. If file already exists, the operation fails.\n",
    "### 'a' Open file in append mode.\n",
    "### If file does not exist, it creates a new file.\n",
    "### 't' This is the default mode. It opens in text mode.\n",
    "### 'b' This opens in binary mode.\n",
    "### '+' This will open a file for reading and writing (updating) "
   ]
  },
  {
   "cell_type": "code",
   "execution_count": 31,
   "metadata": {},
   "outputs": [
    {
     "output_type": "stream",
     "name": "stdout",
     "text": [
      "r\nIt i\ns har\nd to imagine a world without Shakespeare. Since their\ncomposition four hundred years ago, Shakespear\ne’s plays and poems\nhave traveled the globe, inviting those who see and read his works to\nmake them their own.\nReaders of the New Folger Editions are part of this ongoing process\nof “taking up Shakespeare,” finding our own thoughts and feelings\nin language that strikes us as old or unusual and, for that very reason,\nnew. We still struggle to keep up with a writer who could think a\nmile a minute, whose words paint pictures that shift like clouds.\nThese expertly edited texts are presented to the public as a resource\nfor study, artistic adaptation, and enjoyment. By making the classic\ntexts of the New Folger Editions available in electronic form as The\nFolger Shakespeare (formerly Folger Digital Texts), we place a\ntrusted resource in the hands of anyone who wants them.\n"
     ]
    }
   ],
   "source": [
    "# 'r' This is the default mode. It Opens file for reading.\n",
    "f1 = open('textfile.txt','r',encoding = 'utf-8')\n",
    "print(f1.mode) # print the mode of the file\n",
    "print(f1.read(4)) #read first 4 characters\n",
    "print(f1.read(5)) #read next 5 characters\n",
    "print(f1.read(100)) #read next 100 characters\n",
    "print(f1.read()) # read the entire file\n",
    "f1.close() # close the file"
   ]
  },
  {
   "cell_type": "code",
   "execution_count": 37,
   "metadata": {},
   "outputs": [
    {
     "output_type": "stream",
     "name": "stdout",
     "text": [
      "It is hard to imagine a world without Shakespeare. Since their\ncomposition four hundred years ago, Shakespeare’s plays and poems\nhave traveled the globe, inviting those who see and read his works to\nmake them their own.\nReaders of the New Folger Editions are part of this ongoing process\nof “taking up Shakespeare,” finding our own thoughts and feelings\nin language that strikes us as old or unusual and, for that very reason,\nnew. We still struggle to keep up with a writer who could think a\nmile a minute, whose words paint pictures that shift like clouds.\nThese expertly edited texts are presented to the public as a resource\nfor study, artistic adaptation, and enjoyment. By making the classic\ntexts of the New Folger Editions available in electronic form as The\nFolger Shakespeare (formerly Folger Digital Texts), we place a\ntrusted resource in the hands of anyone who wants them."
     ]
    }
   ],
   "source": [
    "\n",
    "#Opening a file and reading the entire file line by line\n",
    "with open('textfile.txt','r',encoding = 'utf-8') as f:\n",
    "    for line in f:    \n",
    "        print(line,end='')\n",
    "f.close()"
   ]
  },
  {
   "cell_type": "code",
   "execution_count": 63,
   "metadata": {},
   "outputs": [
    {
     "output_type": "stream",
     "name": "stdout",
     "text": [
      "w\ntrying out the write method\nline2:trying out the write method\n"
     ]
    }
   ],
   "source": [
    "# 'w' This Mode Opens file for writing.If file does not exist, it creates a new file.\n",
    "f = open('textfileNewer.txt','w',encoding = 'utf-8')\n",
    "print(f.mode) # print the mode of the file\n",
    "f.write('trying out the write method\\n') # This will create a new file if not present and the write the text, mayoverwrite if file with same filename present\n",
    "f.writelines('line2:trying out the write method') \n",
    "f = open('textfileNewer.txt','r',encoding = 'utf-8')\n",
    "print(f.read())\n",
    "f.close() # close the file"
   ]
  },
  {
   "cell_type": "code",
   "execution_count": 66,
   "metadata": {},
   "outputs": [
    {
     "output_type": "stream",
     "name": "stdout",
     "text": [
      "trying out the write method\nline2:trying out the write method\n"
     ]
    }
   ],
   "source": [
    "# another way of writing to files\n",
    "fwrite.close()\n",
    "with open('textfileNew.txt','w',encoding = 'utf-8') as fwrite:\n",
    "    fwrite.write(\"Test\")\n",
    "    fwrite.seek(0)\n",
    "    fwrite.write('R')   \n",
    "f = open('textfileNewer.txt','r',encoding = 'utf-8')\n",
    "print(f.read())  \n",
    "fwrite.close()"
   ]
  },
  {
   "cell_type": "code",
   "execution_count": 67,
   "metadata": {},
   "outputs": [
    {
     "output_type": "stream",
     "name": "stdout",
     "text": [
      "RestTesting the append mode\n"
     ]
    }
   ],
   "source": [
    "# Append mode\n",
    "with open('textfileNew.txt','a',encoding = 'utf-8') as fappend:\n",
    "    #fappend.seek()\n",
    "    fappend.write(\"Testing the append mode\")\n",
    "fappend.close()\n",
    "f = open('textfileNew.txt','r',encoding = 'utf-8')\n",
    "print(f.read()) "
   ]
  },
  {
   "cell_type": "code",
   "execution_count": 69,
   "metadata": {},
   "outputs": [
    {
     "output_type": "stream",
     "name": "stdout",
     "text": [
      "Writing new file created\nAppending this new line\n\n"
     ]
    }
   ],
   "source": [
    "# Create a new file \n",
    "f.close()\n",
    "f = open(\"textfileNewest.txt\", \"x\",encoding='utf-8')\n",
    "f = open(\"textfileNewest.txt\", \"w\",encoding='utf-8')\n",
    "f.write('Writing new file created\\n')\n",
    "#f.write(\"\\n'\")\n",
    "#f.close()\n",
    "with open('textfileNewest.txt','a',encoding = 'utf-8') as f:\n",
    "    f.write('Appending this new line\\n')\n",
    "    f.close()\n",
    "f = open(\"textfileNewest.txt\", \"r\",encoding='utf-8')\n",
    "print(f.read())\n",
    "f.close()\n"
   ]
  },
  {
   "cell_type": "code",
   "execution_count": 80,
   "metadata": {},
   "outputs": [
    {
     "output_type": "stream",
     "name": "stdout",
     "text": [
      "This is line 1\n\nThis is line 2\n\nThis is line 3\n\nThis is line 4\n\nThis is line 5\n\nThis is line 6\n\nThis is line 7\n\nThis is line 8\n\nThis is line 9\n\nThis is line 10\n\n\n"
     ]
    }
   ],
   "source": [
    "f.close()\n",
    "f = open(\"textfileNewestfinal.txt\", \"w+\",encoding='utf-8')\n",
    "for i in range(10):\n",
    "         f.write(\"This is line %d\\r\\n\" % (i+1))\n",
    "f=open(\"textfileNewestfinal.txt\", \"r\",encoding='utf-8')\n",
    "if f.mode == 'r': \n",
    "     contents =f.read()\n",
    "     print(contents)\n",
    "f.close()"
   ]
  },
  {
   "cell_type": "code",
   "execution_count": null,
   "metadata": {},
   "outputs": [],
   "source": []
  }
 ]
}