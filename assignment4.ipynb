{
 "metadata": {
  "language_info": {
   "codemirror_mode": {
    "name": "ipython",
    "version": 3
   },
   "file_extension": ".py",
   "mimetype": "text/x-python",
   "name": "python",
   "nbconvert_exporter": "python",
   "pygments_lexer": "ipython3",
   "version": "3.8.5-final"
  },
  "orig_nbformat": 2,
  "kernelspec": {
   "name": "python3",
   "display_name": "Python 3",
   "language": "python"
  }
 },
 "nbformat": 4,
 "nbformat_minor": 2,
 "cells": [
  {
   "cell_type": "code",
   "execution_count": 16,
   "metadata": {},
   "outputs": [
    {
     "output_type": "stream",
     "name": "stdout",
     "text": [
      "6.0\n"
     ]
    }
   ],
   "source": [
    "#Write a Python Program(with class concepts) to find the area of the triangle using the below formula.area = (s*(s-a)*(s-b)*(s-c)) ** 0.5\n",
    "#Function to take the length of the sides of triangle from user should be defined in the parent class and function to calculate the area should be defined in subclass.\n",
    "\n",
    "class AreaOfTirangle:\n",
    "    def __init__(self):        \n",
    "        self.sidea=int(input(\"Enter Side a: \"))\n",
    "        self.sideb =int(input(\"Enter Side b: \"))\n",
    "        self.sidec = int(input(\"Enter Side c: \"))        \n",
    "class CalculateAreaOfTirangle(AreaOfTirangle):\n",
    "    def __init__(self,*args):        \n",
    "        super().__init__(*args)              \n",
    "    def calculate(self):\n",
    "        side = (self.sidea + self.sideb+ self.sidec)/2        \n",
    "        area = (side*(side-self.sidea)*(side-self.sideb)*(side-self.sidec)) ** 0.5\n",
    "        return side\n",
    "p1 = CalculateAreaOfTirangle()\n",
    "print(p1.calculate())"
   ]
  },
  {
   "cell_type": "code",
   "execution_count": 1,
   "metadata": {},
   "outputs": [],
   "source": [
    "    "
   ]
  },
  {
   "cell_type": "code",
   "execution_count": null,
   "metadata": {},
   "outputs": [],
   "source": []
  }
 ]
}