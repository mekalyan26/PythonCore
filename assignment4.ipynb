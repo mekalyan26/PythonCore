{
 "metadata": {
  "language_info": {
   "codemirror_mode": {
    "name": "ipython",
    "version": 3
   },
   "file_extension": ".py",
   "mimetype": "text/x-python",
   "name": "python",
   "nbconvert_exporter": "python",
   "pygments_lexer": "ipython3",
   "version": "3.8.5-final"
  },
  "orig_nbformat": 2,
  "kernelspec": {
   "name": "python3",
   "display_name": "Python 3",
   "language": "python"
  }
 },
 "nbformat": 4,
 "nbformat_minor": 2,
 "cells": [
  {
   "cell_type": "code",
   "execution_count": 10,
   "metadata": {},
   "outputs": [
    {
     "output_type": "stream",
     "name": "stdout",
     "text": [
      "9.921567416492215\n"
     ]
    }
   ],
   "source": [
    "#Write a Python Program(with class concepts) to find the area of the triangle using the below formula.area = (s*(s-a)*(s-b)*(s-c)) ** 0.5\n",
    "#Function to take the length of the sides of triangle from user should be defined in the parent class and function to calculate the area should be defined in subclass.\n",
    "\n",
    "class AreaOfTirangle:\n",
    "    def __init__(self):        \n",
    "        self.sidea=int(input(\"Enter Side a: \"))\n",
    "        self.sideb =int(input(\"Enter Side b: \"))\n",
    "        self.sidec = int(input(\"Enter Side c: \"))        \n",
    "class CalculateAreaOfTirangle(AreaOfTirangle):\n",
    "    def __init__(self,*args):        \n",
    "        super().__init__(*args)              \n",
    "    def calculate(self):\n",
    "        side = (self.sidea + self.sideb+ self.sidec)/2        \n",
    "        area = (side*(side-self.sidea)*(side-self.sideb)*(side-self.sidec))**0.5\n",
    "        return area\n",
    "p1 = CalculateAreaOfTirangle()\n",
    "print(p1.calculate())"
   ]
  },
  {
   "cell_type": "code",
   "execution_count": 26,
   "metadata": {},
   "outputs": [
    {
     "output_type": "execute_result",
     "data": {
      "text/plain": [
       "['this', 'test', 'string']"
      ]
     },
     "metadata": {},
     "execution_count": 26
    }
   ],
   "source": [
    "# Write a function filter_long_words() that takes a list of words and an integer n and returns the list of words that are longer than n.\n",
    "def filter_long_words(words,n):    \n",
    "    l1 = words.split()    \n",
    "    u = [l for l in l1 if(len(l)>n) ]            \n",
    "    return u\n",
    "filter_long_words(\"this is a test string\", 3)"
   ]
  },
  {
   "cell_type": "code",
   "execution_count": 28,
   "metadata": {},
   "outputs": [
    {
     "output_type": "execute_result",
     "data": {
      "text/plain": [
       "[4, 2, 1, 4, 6]"
      ]
     },
     "metadata": {},
     "execution_count": 28
    }
   ],
   "source": [
    "#Write a Python program using function concept that maps list of words into a list of integers representing the lengths of the corresponding words.\n",
    "#Hint: If a list [ ab,cde,erty] is passed on to the python function output should come as [2,3,4] Here 2,3 and 4 are the lengths of the words in the list.\n",
    "def list_of_words(words):    \n",
    "    l1 = words.split()    \n",
    "    u = [len(l) for l in l1 ]            \n",
    "    return u\n",
    "list_of_words(\"this is a test string\")"
   ]
  },
  {
   "cell_type": "code",
   "execution_count": 48,
   "metadata": {},
   "outputs": [
    {
     "output_type": "execute_result",
     "data": {
      "text/plain": [
       "True"
      ]
     },
     "metadata": {},
     "execution_count": 48
    }
   ],
   "source": [
    "# Write a Python function which takes a character (i.e. a string of length 1) and returns True if it is a vowel, False otherwise.\n",
    "import re\n",
    "def isVowel(c):    \n",
    "    if(len(c)>1):\n",
    "        print(\"please enter just one character\")        \n",
    "    elif(re.match(\"[aeiou]\",c.lower())):\n",
    "        return True\n",
    "    else:\n",
    "        return False    \n",
    "isVowel(\"a\")\n",
    "#isVowel(\"A\")\n",
    "#isVowel(\"X\")\n",
    "#isVowel(\"opop\")\n"
   ]
  }
 ]
}