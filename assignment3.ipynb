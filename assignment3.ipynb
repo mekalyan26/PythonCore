{
 "metadata": {
  "language_info": {
   "codemirror_mode": {
    "name": "ipython",
    "version": 3
   },
   "file_extension": ".py",
   "mimetype": "text/x-python",
   "name": "python",
   "nbconvert_exporter": "python",
   "pygments_lexer": "ipython3",
   "version": "3.8.5-final"
  },
  "orig_nbformat": 2,
  "kernelspec": {
   "name": "python3",
   "display_name": "Python 3",
   "language": "python"
  }
 },
 "nbformat": 4,
 "nbformat_minor": 2,
 "cells": [
  {
   "cell_type": "code",
   "execution_count": 16,
   "metadata": {
    "tags": []
   },
   "outputs": [
    {
     "output_type": "execute_result",
     "data": {
      "text/plain": [
       "246"
      ]
     },
     "metadata": {},
     "execution_count": 16
    }
   ],
   "source": [
    "#1.1 Write a Python Program to implement your own myreduce() function which works exactly like Python's built-in function reduce()\n",
    "def myfunc(x):\n",
    "    #print(\"I was in myfunc\")\n",
    "    result = 0   \n",
    "    i = 0\n",
    "    while(i < len(x)):\n",
    "        #print(\"I was inside while\")\n",
    "        for y in x:\n",
    "            result = result + y\n",
    "        return result\n",
    "        i=i+1\n",
    "\n",
    "def myreduce(func,x):\n",
    "      #print(\"I was in myreduce\")      \n",
    "      var = func(x)\n",
    "      return var\n",
    "\n",
    "\n",
    "xList=[1, 2, 4, 5, 6, 10, 50, 78, 90]\n",
    "myreduce(myfunc, xList)\n"
   ]
  },
  {
   "cell_type": "code",
   "execution_count": 8,
   "metadata": {},
   "outputs": [
    {
     "output_type": "execute_result",
     "data": {
      "text/plain": [
       "[True, True, True, True, True, True, True]"
      ]
     },
     "metadata": {},
     "execution_count": 8
    }
   ],
   "source": [
    "# 1.2 Write a Python program to implement your own myfilter() function which works exactly like Python's built-in function filter()\n",
    "def myfunc(x):\n",
    "    #print(\"I was in myfunc\")\n",
    "    result = []\n",
    "    for y in x:\n",
    "        if y%2==0:\n",
    "            #print(\"I was in for loop\" + str(y))\n",
    "            result.append(True)\n",
    "    return result\n",
    "\n",
    "def myfilter(func,x):\n",
    "      #print(\"I was in myfilter\")\n",
    "      var = []\n",
    "      var = func(x)\n",
    "      return var\n",
    "    \n",
    "\n",
    "xList=[1, 2, 4, 5, 6, 10, 50, 78, 90]\n",
    "list(myfilter(myfunc, xList))"
   ]
  },
  {
   "cell_type": "code",
   "execution_count": 45,
   "metadata": {},
   "outputs": [
    {
     "output_type": "stream",
     "name": "stdout",
     "text": [
      "['x', 'xx', 'xxx', 'xxxx', 'y', 'yy', 'yyy', 'yyyy', 'z', 'zz', 'zzz', 'zzzz']\n"
     ]
    }
   ],
   "source": [
    "# Implement List comprehensions to produce the following lists. Write List comprehensions to produce the following Lists\n",
    "#['x', 'xx', 'xxx', 'xxxx', 'y', 'yy', 'yyy', 'yyyy', 'z', 'zz', 'zzz', 'zzzz']\n",
    "\n",
    "lst = ['x', 'y', 'z']\n",
    "mylist1 = [l*i for l in lst for i in range(1,5)]\n",
    "print(mylist1)\n"
   ]
  },
  {
   "cell_type": "code",
   "execution_count": 44,
   "metadata": {},
   "outputs": [
    {
     "output_type": "stream",
     "name": "stdout",
     "text": [
      "['x', 'y', 'z', 'xx', 'yy', 'zz', 'xxx', 'yyy', 'zzz', 'xxxx', 'yyyy', 'zzzz']\n"
     ]
    }
   ],
   "source": [
    "#['x', 'y', 'z', 'xx', 'yy', 'zz', 'xxx', 'yyy', 'zzz', 'xxxx', 'yyyy', 'zzzz']\n",
    "\n",
    "lst2 = ['x', 'y', 'z']\n",
    "mylist2 = [l*i for i in range(1,5) for l in lst2]\n",
    "print(mylist2)"
   ]
  },
  {
   "cell_type": "code",
   "execution_count": 50,
   "metadata": {},
   "outputs": [
    {
     "output_type": "stream",
     "name": "stdout",
     "text": [
      "[[2], [3], [4], [3], [4], [5], [4], [5], [6]]\n"
     ]
    }
   ],
   "source": [
    "#[[2], [3], [4], [3], [4], [5], [4], [5], [6]] \n",
    "\n",
    "lst3 = [2, 3, 4]\n",
    "mylst3 = [[l+i] for l in lst3 for i in range(0,3)]\n",
    "print(mylst3)\n"
   ]
  },
  {
   "cell_type": "code",
   "execution_count": 52,
   "metadata": {},
   "outputs": [
    {
     "output_type": "stream",
     "name": "stdout",
     "text": [
      "[[2, 3, 4, 5], [3, 4, 5, 6], [4, 5, 6, 7], [5, 6, 7, 8]]\n"
     ]
    }
   ],
   "source": [
    "#[[2, 3, 4, 5], [3, 4, 5, 6],[4, 5, 6, 7], [5, 6, 7, 8]]\n",
    "lst4 = [2, 3, 4, 5]\n",
    "mylst4 = [[l+i for l in lst4] for i in range(0,4)]\n",
    "print(mylst4)"
   ]
  },
  {
   "cell_type": "code",
   "execution_count": 55,
   "metadata": {},
   "outputs": [
    {
     "output_type": "stream",
     "name": "stdout",
     "text": [
      "[(1, 1), (2, 1), (3, 1), (1, 2), (2, 2), (3, 2), (1, 3), (2, 3), (3, 3)]\n"
     ]
    }
   ],
   "source": [
    "#[(1, 1), (2, 1), (3, 1), (1, 2), (2, 2), (3, 2), (1, 3), (2, 3), (3, 3)]\n",
    "lst5 = [1,2,3]\n",
    "mylst5 = [(i,l) for l in lst5 for i in lst5]\n",
    "print(mylst5)"
   ]
  },
  {
   "cell_type": "code",
   "execution_count": null,
   "metadata": {},
   "outputs": [],
   "source": []
  }
 ]
}