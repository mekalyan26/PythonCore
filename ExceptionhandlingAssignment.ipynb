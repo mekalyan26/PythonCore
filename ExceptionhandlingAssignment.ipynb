{
 "metadata": {
  "language_info": {
   "codemirror_mode": {
    "name": "ipython",
    "version": 3
   },
   "file_extension": ".py",
   "mimetype": "text/x-python",
   "name": "python",
   "nbconvert_exporter": "python",
   "pygments_lexer": "ipython3",
   "version": "3.8.5-final"
  },
  "orig_nbformat": 2,
  "kernelspec": {
   "name": "python3",
   "display_name": "Python 3",
   "language": "python"
  }
 },
 "nbformat": 4,
 "nbformat_minor": 2,
 "cells": [
  {
   "cell_type": "code",
   "execution_count": 8,
   "metadata": {},
   "outputs": [
    {
     "output_type": "stream",
     "name": "stdout",
     "text": [
      "ZeroDivisionError as val was divided by 0\n"
     ]
    }
   ],
   "source": [
    "#1. Write a function to compute 5/0 and use try/except to catch the exceptions\n",
    "def myfunc():\n",
    "        try:\n",
    "            val = 5\n",
    "            val1 = val/0\n",
    "        except ZeroDivisionError:\n",
    "            print(\"ZeroDivisionError as val was divided by 0\")                              \n",
    "myfunc()   "
   ]
  },
  {
   "cell_type": "code",
   "execution_count": 19,
   "metadata": {},
   "outputs": [
    {
     "output_type": "stream",
     "name": "stdout",
     "text": [
      "Americans play Baseball\nAmericans play Cricket\nAmericans watch Baseball\nAmericans watch Cricket\nIndians play Baseball\nIndians play Cricket\nIndians watch Baseball\nIndians watch Cricket\n"
     ]
    }
   ],
   "source": [
    "#2. Implement a Python program to generate all sentences where subject is in [\"Americans\", \"Indians\"] and verb is in [\"Play\", \"watch\"] and the object is in [\"Baseball\",\"cricket\"].\n",
    "#Hint: Subject,Verb and Object should be declared in the program as shown below.\n",
    "#subjects=[\"Americans \",\"Indians\"]\n",
    "#verbs=[\"play\",\"watch\"]\n",
    "#objects=[\"Baseball\",\"Cricket\"]\n",
    "#Output should come as below:\n",
    "#Americans play Baseball.\n",
    "#Americans play Cricket.\n",
    "#Americans watch Baseball.\n",
    "#Americans watch Cricket.\n",
    "#Indians play Baseball.\n",
    "#Indians play Cricket.\n",
    "#Indians watch Baseball.\n",
    "#Indians watch Cricket.\n",
    "def mufuc2():\n",
    "    subjects=[\"Americans \",\"Indians \"]\n",
    "    verbs=[\"play \",\"watch \"]\n",
    "    objects=[\"Baseball\",\"Cricket\"]\n",
    "    for i in subjects:\n",
    "        for j in verbs:\n",
    "            for k in objects:\n",
    "                print(i + j  + k)\n",
    "mufuc2()"
   ]
  },
  {
   "cell_type": "code",
   "execution_count": null,
   "metadata": {},
   "outputs": [],
   "source": []
  }
 ]
}